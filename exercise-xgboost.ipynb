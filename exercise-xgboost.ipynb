{
 "cells": [
  {
   "cell_type": "markdown",
   "id": "polish-giant",
   "metadata": {
    "papermill": {
     "duration": 0.016425,
     "end_time": "2021-05-23T05:38:07.514463",
     "exception": false,
     "start_time": "2021-05-23T05:38:07.498038",
     "status": "completed"
    },
    "tags": []
   },
   "source": [
    "**This notebook is an exercise in the [Intermediate Machine Learning](https://www.kaggle.com/learn/intermediate-machine-learning) course.  You can reference the tutorial at [this link](https://www.kaggle.com/alexisbcook/xgboost).**\n",
    "\n",
    "---\n"
   ]
  },
  {
   "cell_type": "markdown",
   "id": "available-physics",
   "metadata": {
    "papermill": {
     "duration": 0.015197,
     "end_time": "2021-05-23T05:38:07.545345",
     "exception": false,
     "start_time": "2021-05-23T05:38:07.530148",
     "status": "completed"
    },
    "tags": []
   },
   "source": [
    "In this exercise, you will use your new knowledge to train a model with **gradient boosting**.\n",
    "\n",
    "# Setup\n",
    "\n",
    "The questions below will give you feedback on your work. Run the following cell to set up the feedback system."
   ]
  },
  {
   "cell_type": "code",
   "execution_count": 1,
   "id": "adequate-diploma",
   "metadata": {
    "execution": {
     "iopub.execute_input": "2021-05-23T05:38:07.582619Z",
     "iopub.status.busy": "2021-05-23T05:38:07.581972Z",
     "iopub.status.idle": "2021-05-23T05:38:10.085086Z",
     "shell.execute_reply": "2021-05-23T05:38:10.085636Z",
     "shell.execute_reply.started": "2021-05-22T14:41:08.655969Z"
    },
    "papermill": {
     "duration": 2.525044,
     "end_time": "2021-05-23T05:38:10.086028",
     "exception": false,
     "start_time": "2021-05-23T05:38:07.560984",
     "status": "completed"
    },
    "tags": []
   },
   "outputs": [
    {
     "name": "stdout",
     "output_type": "stream",
     "text": [
      "Setup Complete\n"
     ]
    }
   ],
   "source": [
    "# Set up code checking\n",
    "import os\n",
    "if not os.path.exists(\"../input/train.csv\"):\n",
    "    os.symlink(\"../input/home-data-for-ml-course/train.csv\", \"../input/train.csv\")  \n",
    "    os.symlink(\"../input/home-data-for-ml-course/test.csv\", \"../input/test.csv\") \n",
    "from learntools.core import binder\n",
    "binder.bind(globals())\n",
    "from learntools.ml_intermediate.ex6 import *\n",
    "print(\"Setup Complete\")"
   ]
  },
  {
   "cell_type": "markdown",
   "id": "judicial-dietary",
   "metadata": {
    "papermill": {
     "duration": 0.016569,
     "end_time": "2021-05-23T05:38:10.119825",
     "exception": false,
     "start_time": "2021-05-23T05:38:10.103256",
     "status": "completed"
    },
    "tags": []
   },
   "source": [
    "You will work with the [Housing Prices Competition for Kaggle Learn Users](https://www.kaggle.com/c/home-data-for-ml-course) dataset from the previous exercise. \n",
    "\n",
    "![Ames Housing dataset image](https://i.imgur.com/lTJVG4e.png)\n",
    "\n",
    "Run the next code cell without changes to load the training and validation sets in `X_train`, `X_valid`, `y_train`, and `y_valid`.  The test set is loaded in `X_test`."
   ]
  },
  {
   "cell_type": "code",
   "execution_count": 2,
   "id": "filled-sculpture",
   "metadata": {
    "execution": {
     "iopub.execute_input": "2021-05-23T05:38:10.163800Z",
     "iopub.status.busy": "2021-05-23T05:38:10.161518Z",
     "iopub.status.idle": "2021-05-23T05:38:10.387109Z",
     "shell.execute_reply": "2021-05-23T05:38:10.386546Z",
     "shell.execute_reply.started": "2021-05-22T14:41:24.005433Z"
    },
    "papermill": {
     "duration": 0.25024,
     "end_time": "2021-05-23T05:38:10.387260",
     "exception": false,
     "start_time": "2021-05-23T05:38:10.137020",
     "status": "completed"
    },
    "tags": []
   },
   "outputs": [],
   "source": [
    "import pandas as pd\n",
    "from sklearn.model_selection import train_test_split\n",
    "\n",
    "# Read the data\n",
    "X = pd.read_csv('../input/train.csv', index_col='Id')\n",
    "X_test_full = pd.read_csv('../input/test.csv', index_col='Id')\n",
    "\n",
    "# Remove rows with missing target, separate target from predictors\n",
    "X.dropna(axis=0, subset=['SalePrice'], inplace=True)\n",
    "y = X.SalePrice              \n",
    "X.drop(['SalePrice'], axis=1, inplace=True)\n",
    "\n",
    "# Break off validation set from training data\n",
    "X_train_full, X_valid_full, y_train, y_valid = train_test_split(X, y, train_size=0.8, test_size=0.2,\n",
    "                                                                random_state=0)\n",
    "\n",
    "# \"Cardinality\" means the number of unique values in a column\n",
    "# Select categorical columns with relatively low cardinality (convenient but arbitrary)\n",
    "low_cardinality_cols = [cname for cname in X_train_full.columns if X_train_full[cname].nunique() < 10 and \n",
    "                        X_train_full[cname].dtype == \"object\"]\n",
    "\n",
    "# Select numeric columns\n",
    "numeric_cols = [cname for cname in X_train_full.columns if X_train_full[cname].dtype in ['int64', 'float64']]\n",
    "\n",
    "# Keep selected columns only\n",
    "my_cols = low_cardinality_cols + numeric_cols\n",
    "X_train = X_train_full[my_cols].copy()\n",
    "X_valid = X_valid_full[my_cols].copy()\n",
    "X_test = X_test_full[my_cols].copy()\n",
    "\n",
    "# One-hot encode the data (to shorten the code, we use pandas)\n",
    "X_train = pd.get_dummies(X_train)\n",
    "X_valid = pd.get_dummies(X_valid)\n",
    "X_test = pd.get_dummies(X_test)\n",
    "X_train, X_valid = X_train.align(X_valid, join='left', axis=1)\n",
    "X_train, X_test = X_train.align(X_test, join='left', axis=1)"
   ]
  },
  {
   "cell_type": "markdown",
   "id": "inner-decision",
   "metadata": {
    "papermill": {
     "duration": 0.016703,
     "end_time": "2021-05-23T05:38:10.419851",
     "exception": false,
     "start_time": "2021-05-23T05:38:10.403148",
     "status": "completed"
    },
    "tags": []
   },
   "source": [
    "# Step 1: Build model\n",
    "\n",
    "### Part A\n",
    "\n",
    "In this step, you'll build and train your first model with gradient boosting.\n",
    "\n",
    "- Begin by setting `my_model_1` to an XGBoost model.  Use the [XGBRegressor](https://xgboost.readthedocs.io/en/latest/python/python_api.html#xgboost.XGBRegressor) class, and set the random seed to 0 (`random_state=0`).  **Leave all other parameters as default.**\n",
    "- Then, fit the model to the training data in `X_train` and `y_train`."
   ]
  },
  {
   "cell_type": "code",
   "execution_count": 3,
   "id": "defensive-painting",
   "metadata": {
    "execution": {
     "iopub.execute_input": "2021-05-23T05:38:10.457905Z",
     "iopub.status.busy": "2021-05-23T05:38:10.457196Z",
     "iopub.status.idle": "2021-05-23T05:38:11.052322Z",
     "shell.execute_reply": "2021-05-23T05:38:11.052885Z",
     "shell.execute_reply.started": "2021-05-22T14:43:27.555041Z"
    },
    "papermill": {
     "duration": 0.617127,
     "end_time": "2021-05-23T05:38:11.053073",
     "exception": false,
     "start_time": "2021-05-23T05:38:10.435946",
     "status": "completed"
    },
    "tags": []
   },
   "outputs": [
    {
     "data": {
      "application/javascript": [
       "parent.postMessage({\"jupyterEvent\": \"custom.exercise_interaction\", \"data\": {\"outcomeType\": 1, \"valueTowardsCompletion\": 0.5, \"interactionType\": 1, \"questionType\": 2, \"questionId\": \"1.1_Model1A\", \"learnToolsVersion\": \"0.3.4\", \"failureMessage\": \"\", \"exceptionClass\": \"\", \"trace\": \"\"}}, \"*\")"
      ],
      "text/plain": [
       "<IPython.core.display.Javascript object>"
      ]
     },
     "metadata": {},
     "output_type": "display_data"
    },
    {
     "data": {
      "text/markdown": [
       "<span style=\"color:#33cc33\">Correct</span>"
      ],
      "text/plain": [
       "Correct"
      ]
     },
     "metadata": {},
     "output_type": "display_data"
    }
   ],
   "source": [
    "from xgboost import XGBRegressor\n",
    "\n",
    "# Define the model\n",
    "my_model_1 = XGBRegressor(random_state=0) \n",
    "# Your code here\n",
    "\n",
    "# Fit the model\n",
    "my_model_1.fit(X_train, y_train) \n",
    "# Your code here\n",
    "\n",
    "# Check your answer\n",
    "step_1.a.check()"
   ]
  },
  {
   "cell_type": "code",
   "execution_count": 4,
   "id": "lasting-warehouse",
   "metadata": {
    "execution": {
     "iopub.execute_input": "2021-05-23T05:38:11.091846Z",
     "iopub.status.busy": "2021-05-23T05:38:11.091130Z",
     "iopub.status.idle": "2021-05-23T05:38:11.095457Z",
     "shell.execute_reply": "2021-05-23T05:38:11.094777Z"
    },
    "papermill": {
     "duration": 0.025004,
     "end_time": "2021-05-23T05:38:11.095604",
     "exception": false,
     "start_time": "2021-05-23T05:38:11.070600",
     "status": "completed"
    },
    "tags": []
   },
   "outputs": [],
   "source": [
    "# Lines below will give you a hint or solution code\n",
    "#step_1.a.hint()\n",
    "#step_1.a.solution()"
   ]
  },
  {
   "cell_type": "markdown",
   "id": "provincial-treat",
   "metadata": {
    "papermill": {
     "duration": 0.016512,
     "end_time": "2021-05-23T05:38:11.129097",
     "exception": false,
     "start_time": "2021-05-23T05:38:11.112585",
     "status": "completed"
    },
    "tags": []
   },
   "source": [
    "### Part B\n",
    "\n",
    "Set `predictions_1` to the model's predictions for the validation data.  Recall that the validation features are stored in `X_valid`."
   ]
  },
  {
   "cell_type": "code",
   "execution_count": 5,
   "id": "interim-replica",
   "metadata": {
    "execution": {
     "iopub.execute_input": "2021-05-23T05:38:11.174896Z",
     "iopub.status.busy": "2021-05-23T05:38:11.174100Z",
     "iopub.status.idle": "2021-05-23T05:38:11.187739Z",
     "shell.execute_reply": "2021-05-23T05:38:11.188976Z",
     "shell.execute_reply.started": "2021-05-22T14:46:10.324358Z"
    },
    "papermill": {
     "duration": 0.043407,
     "end_time": "2021-05-23T05:38:11.189379",
     "exception": false,
     "start_time": "2021-05-23T05:38:11.145972",
     "status": "completed"
    },
    "tags": []
   },
   "outputs": [
    {
     "data": {
      "application/javascript": [
       "parent.postMessage({\"jupyterEvent\": \"custom.exercise_interaction\", \"data\": {\"outcomeType\": 1, \"valueTowardsCompletion\": 0.5, \"interactionType\": 1, \"questionType\": 2, \"questionId\": \"1.2_Model1B\", \"learnToolsVersion\": \"0.3.4\", \"failureMessage\": \"\", \"exceptionClass\": \"\", \"trace\": \"\"}}, \"*\")"
      ],
      "text/plain": [
       "<IPython.core.display.Javascript object>"
      ]
     },
     "metadata": {},
     "output_type": "display_data"
    },
    {
     "data": {
      "text/markdown": [
       "<span style=\"color:#33cc33\">Correct</span>"
      ],
      "text/plain": [
       "Correct"
      ]
     },
     "metadata": {},
     "output_type": "display_data"
    }
   ],
   "source": [
    "from sklearn.metrics import mean_absolute_error\n",
    "\n",
    "# Get predictions\n",
    "predictions_1 = my_model_1.predict( X_valid) \n",
    "# Your code here\n",
    "\n",
    "# Check your answer\n",
    "step_1.b.check()"
   ]
  },
  {
   "cell_type": "code",
   "execution_count": 6,
   "id": "loaded-cause",
   "metadata": {
    "execution": {
     "iopub.execute_input": "2021-05-23T05:38:11.231195Z",
     "iopub.status.busy": "2021-05-23T05:38:11.230500Z",
     "iopub.status.idle": "2021-05-23T05:38:11.233218Z",
     "shell.execute_reply": "2021-05-23T05:38:11.232592Z",
     "shell.execute_reply.started": "2021-05-22T14:46:18.595383Z"
    },
    "papermill": {
     "duration": 0.024298,
     "end_time": "2021-05-23T05:38:11.233364",
     "exception": false,
     "start_time": "2021-05-23T05:38:11.209066",
     "status": "completed"
    },
    "tags": []
   },
   "outputs": [],
   "source": [
    "# Lines below will give you a hint or solution code\n",
    "#step_1.b.hint()\n",
    "#step_1.b.solution()"
   ]
  },
  {
   "cell_type": "markdown",
   "id": "opponent-electron",
   "metadata": {
    "papermill": {
     "duration": 0.018572,
     "end_time": "2021-05-23T05:38:11.270834",
     "exception": false,
     "start_time": "2021-05-23T05:38:11.252262",
     "status": "completed"
    },
    "tags": []
   },
   "source": [
    "### Part C\n",
    "\n",
    "Finally, use the `mean_absolute_error()` function to calculate the mean absolute error (MAE) corresponding to the predictions for the validation set.  Recall that the labels for the validation data are stored in `y_valid`."
   ]
  },
  {
   "cell_type": "code",
   "execution_count": 7,
   "id": "artistic-gross",
   "metadata": {
    "execution": {
     "iopub.execute_input": "2021-05-23T05:38:11.312206Z",
     "iopub.status.busy": "2021-05-23T05:38:11.311511Z",
     "iopub.status.idle": "2021-05-23T05:38:11.322408Z",
     "shell.execute_reply": "2021-05-23T05:38:11.321882Z",
     "shell.execute_reply.started": "2021-05-22T14:48:51.450862Z"
    },
    "papermill": {
     "duration": 0.033315,
     "end_time": "2021-05-23T05:38:11.322571",
     "exception": false,
     "start_time": "2021-05-23T05:38:11.289256",
     "status": "completed"
    },
    "tags": []
   },
   "outputs": [
    {
     "name": "stdout",
     "output_type": "stream",
     "text": [
      "Mean Absolute Error: 17662.736729452055\n"
     ]
    },
    {
     "data": {
      "application/javascript": [
       "parent.postMessage({\"jupyterEvent\": \"custom.exercise_interaction\", \"data\": {\"outcomeType\": 1, \"valueTowardsCompletion\": 0.5, \"interactionType\": 1, \"questionType\": 2, \"questionId\": \"1.3_Model1C\", \"learnToolsVersion\": \"0.3.4\", \"failureMessage\": \"\", \"exceptionClass\": \"\", \"trace\": \"\"}}, \"*\")"
      ],
      "text/plain": [
       "<IPython.core.display.Javascript object>"
      ]
     },
     "metadata": {},
     "output_type": "display_data"
    },
    {
     "data": {
      "text/markdown": [
       "<span style=\"color:#33cc33\">Correct</span>"
      ],
      "text/plain": [
       "Correct"
      ]
     },
     "metadata": {},
     "output_type": "display_data"
    }
   ],
   "source": [
    "# Calculate MAE\n",
    "mae_1 = mean_absolute_error(predictions_1, y_valid) # Your code here\n",
    "\n",
    "# Uncomment to print MAE\n",
    "print(\"Mean Absolute Error:\" , mae_1)\n",
    "\n",
    "# Check your answer\n",
    "step_1.c.check()"
   ]
  },
  {
   "cell_type": "code",
   "execution_count": 8,
   "id": "compliant-backing",
   "metadata": {
    "execution": {
     "iopub.execute_input": "2021-05-23T05:38:11.369012Z",
     "iopub.status.busy": "2021-05-23T05:38:11.368149Z",
     "iopub.status.idle": "2021-05-23T05:38:11.371404Z",
     "shell.execute_reply": "2021-05-23T05:38:11.370710Z",
     "shell.execute_reply.started": "2021-05-22T14:48:59.451056Z"
    },
    "papermill": {
     "duration": 0.028329,
     "end_time": "2021-05-23T05:38:11.371560",
     "exception": false,
     "start_time": "2021-05-23T05:38:11.343231",
     "status": "completed"
    },
    "tags": []
   },
   "outputs": [],
   "source": [
    "# Lines below will give you a hint or solution code\n",
    "#step_1.c.hint()\n",
    "#step_1.c.solution()"
   ]
  },
  {
   "cell_type": "markdown",
   "id": "attended-context",
   "metadata": {
    "papermill": {
     "duration": 0.018873,
     "end_time": "2021-05-23T05:38:11.409784",
     "exception": false,
     "start_time": "2021-05-23T05:38:11.390911",
     "status": "completed"
    },
    "tags": []
   },
   "source": [
    "# Step 2: Improve the model\n",
    "\n",
    "Now that you've trained a default model as baseline, it's time to tinker with the parameters, to see if you can get better performance!\n",
    "- Begin by setting `my_model_2` to an XGBoost model, using the [XGBRegressor](https://xgboost.readthedocs.io/en/latest/python/python_api.html#xgboost.XGBRegressor) class.  Use what you learned in the previous tutorial to figure out how to change the default parameters (like `n_estimators` and `learning_rate`) to get better results.\n",
    "- Then, fit the model to the training data in `X_train` and `y_train`.\n",
    "- Set `predictions_2` to the model's predictions for the validation data.  Recall that the validation features are stored in `X_valid`.\n",
    "- Finally, use the `mean_absolute_error()` function to calculate the mean absolute error (MAE) corresponding to the predictions on the validation set.  Recall that the labels for the validation data are stored in `y_valid`.\n",
    "\n",
    "In order for this step to be marked correct, your model in `my_model_2` must attain lower MAE than the model in `my_model_1`. "
   ]
  },
  {
   "cell_type": "code",
   "execution_count": 9,
   "id": "floating-processing",
   "metadata": {
    "execution": {
     "iopub.execute_input": "2021-05-23T05:38:11.470853Z",
     "iopub.status.busy": "2021-05-23T05:38:11.469793Z",
     "iopub.status.idle": "2021-05-23T05:38:17.167977Z",
     "shell.execute_reply": "2021-05-23T05:38:17.168515Z",
     "shell.execute_reply.started": "2021-05-22T14:55:37.341353Z"
    },
    "papermill": {
     "duration": 5.739207,
     "end_time": "2021-05-23T05:38:17.168753",
     "exception": false,
     "start_time": "2021-05-23T05:38:11.429546",
     "status": "completed"
    },
    "tags": []
   },
   "outputs": [
    {
     "data": {
      "application/javascript": [
       "parent.postMessage({\"jupyterEvent\": \"custom.exercise_interaction\", \"data\": {\"outcomeType\": 1, \"valueTowardsCompletion\": 0.5, \"interactionType\": 1, \"questionType\": 2, \"questionId\": \"2_Model2\", \"learnToolsVersion\": \"0.3.4\", \"failureMessage\": \"\", \"exceptionClass\": \"\", \"trace\": \"\"}}, \"*\")"
      ],
      "text/plain": [
       "<IPython.core.display.Javascript object>"
      ]
     },
     "metadata": {},
     "output_type": "display_data"
    },
    {
     "data": {
      "text/markdown": [
       "<span style=\"color:#33cc33\">Correct</span>"
      ],
      "text/plain": [
       "Correct"
      ]
     },
     "metadata": {},
     "output_type": "display_data"
    }
   ],
   "source": [
    "# Define the model\n",
    "my_model_2 = XGBRegressor(n_estimators=1000, learning_rate = 0.05)\n",
    "# Your code here\n",
    "\n",
    "# Fit the model\n",
    "my_model_2.fit(X_train, y_train)\n",
    "# Your code here\n",
    "\n",
    "# Get predictions\n",
    "predictions_2 = my_model_2.predict(X_valid) \n",
    "# Your code here\n",
    "\n",
    "# Calculate MAE\n",
    "mae_2 = mean_absolute_error(predictions_2, y_valid) \n",
    "# Your code here\n",
    "\n",
    "# Uncomment to print MAE\n",
    "# print(\"Mean Absolute Error:\" , mae_2)\n",
    "\n",
    "# Check your answer\n",
    "step_2.check()"
   ]
  },
  {
   "cell_type": "code",
   "execution_count": 10,
   "id": "hungry-exhibit",
   "metadata": {
    "execution": {
     "iopub.execute_input": "2021-05-23T05:38:17.216451Z",
     "iopub.status.busy": "2021-05-23T05:38:17.215524Z",
     "iopub.status.idle": "2021-05-23T05:38:17.218374Z",
     "shell.execute_reply": "2021-05-23T05:38:17.217746Z",
     "shell.execute_reply.started": "2021-05-22T14:55:53.521613Z"
    },
    "papermill": {
     "duration": 0.027164,
     "end_time": "2021-05-23T05:38:17.218509",
     "exception": false,
     "start_time": "2021-05-23T05:38:17.191345",
     "status": "completed"
    },
    "tags": []
   },
   "outputs": [],
   "source": [
    "# Lines below will give you a hint or solution code\n",
    "#step_2.hint()\n",
    "#step_2.solution()"
   ]
  },
  {
   "cell_type": "markdown",
   "id": "young-worthy",
   "metadata": {
    "papermill": {
     "duration": 0.019795,
     "end_time": "2021-05-23T05:38:17.258332",
     "exception": false,
     "start_time": "2021-05-23T05:38:17.238537",
     "status": "completed"
    },
    "tags": []
   },
   "source": [
    "# Step 3: Break the model\n",
    "\n",
    "In this step, you will create a model that performs worse than the original model in Step 1.  This will help you to develop your intuition for how to set parameters.  You might even find that you accidentally get better performance, which is ultimately a nice problem to have and a valuable learning experience!\n",
    "- Begin by setting `my_model_3` to an XGBoost model, using the [XGBRegressor](https://xgboost.readthedocs.io/en/latest/python/python_api.html#xgboost.XGBRegressor) class.  Use what you learned in the previous tutorial to figure out how to change the default parameters (like `n_estimators` and `learning_rate`) to design a model to get high MAE.\n",
    "- Then, fit the model to the training data in `X_train` and `y_train`.\n",
    "- Set `predictions_3` to the model's predictions for the validation data.  Recall that the validation features are stored in `X_valid`.\n",
    "- Finally, use the `mean_absolute_error()` function to calculate the mean absolute error (MAE) corresponding to the predictions on the validation set.  Recall that the labels for the validation data are stored in `y_valid`.\n",
    "\n",
    "In order for this step to be marked correct, your model in `my_model_3` must attain higher MAE than the model in `my_model_1`. "
   ]
  },
  {
   "cell_type": "code",
   "execution_count": 11,
   "id": "gross-extraction",
   "metadata": {
    "execution": {
     "iopub.execute_input": "2021-05-23T05:38:17.302722Z",
     "iopub.status.busy": "2021-05-23T05:38:17.301698Z",
     "iopub.status.idle": "2021-05-23T05:38:24.802744Z",
     "shell.execute_reply": "2021-05-23T05:38:24.803692Z",
     "shell.execute_reply.started": "2021-05-22T14:59:20.296548Z"
    },
    "papermill": {
     "duration": 7.525509,
     "end_time": "2021-05-23T05:38:24.803914",
     "exception": false,
     "start_time": "2021-05-23T05:38:17.278405",
     "status": "completed"
    },
    "tags": []
   },
   "outputs": [
    {
     "data": {
      "application/javascript": [
       "parent.postMessage({\"jupyterEvent\": \"custom.exercise_interaction\", \"data\": {\"outcomeType\": 1, \"valueTowardsCompletion\": 0.5, \"interactionType\": 1, \"questionType\": 2, \"questionId\": \"3_Model3\", \"learnToolsVersion\": \"0.3.4\", \"failureMessage\": \"\", \"exceptionClass\": \"\", \"trace\": \"\"}}, \"*\")"
      ],
      "text/plain": [
       "<IPython.core.display.Javascript object>"
      ]
     },
     "metadata": {},
     "output_type": "display_data"
    },
    {
     "data": {
      "text/markdown": [
       "<span style=\"color:#33cc33\">Correct</span>"
      ],
      "text/plain": [
       "Correct"
      ]
     },
     "metadata": {},
     "output_type": "display_data"
    }
   ],
   "source": [
    "# Define the model\n",
    "my_model_3 = XGBRegressor(n_estimators = 5000, learning_rate=1)\n",
    "\n",
    "# Fit the model\n",
    "my_model_3.fit(X_train, y_train)\n",
    "# Your code here\n",
    "\n",
    "# Get predictions\n",
    "predictions_3 = my_model_3.predict(X_valid)\n",
    "\n",
    "# Calculate MAE\n",
    "mae_3 = mean_absolute_error(predictions_3, y_valid)\n",
    "\n",
    "# Uncomment to print MAE\n",
    "# print(\"Mean Absolute Error:\" , mae_3)\n",
    "\n",
    "# Check your answer\n",
    "step_3.check()"
   ]
  },
  {
   "cell_type": "code",
   "execution_count": 12,
   "id": "weird-nickel",
   "metadata": {
    "execution": {
     "iopub.execute_input": "2021-05-23T05:38:24.852578Z",
     "iopub.status.busy": "2021-05-23T05:38:24.851722Z",
     "iopub.status.idle": "2021-05-23T05:38:24.854640Z",
     "shell.execute_reply": "2021-05-23T05:38:24.854074Z",
     "shell.execute_reply.started": "2021-05-22T14:59:51.910645Z"
    },
    "papermill": {
     "duration": 0.028234,
     "end_time": "2021-05-23T05:38:24.854802",
     "exception": false,
     "start_time": "2021-05-23T05:38:24.826568",
     "status": "completed"
    },
    "tags": []
   },
   "outputs": [],
   "source": [
    "# Lines below will give you a hint or solution code\n",
    "#step_3.hint()\n",
    "#step_3.solution()"
   ]
  },
  {
   "cell_type": "markdown",
   "id": "least-express",
   "metadata": {
    "papermill": {
     "duration": 0.021558,
     "end_time": "2021-05-23T05:38:24.897517",
     "exception": false,
     "start_time": "2021-05-23T05:38:24.875959",
     "status": "completed"
    },
    "tags": []
   },
   "source": [
    "# Keep going\n",
    "\n",
    "Continue to learn about **[data leakage](https://www.kaggle.com/alexisbcook/data-leakage)**.  This is an important issue for a data scientist to understand, and it has the potential to ruin your models in subtle and dangerous ways!"
   ]
  },
  {
   "cell_type": "markdown",
   "id": "warming-stuff",
   "metadata": {
    "papermill": {
     "duration": 0.021175,
     "end_time": "2021-05-23T05:38:24.940309",
     "exception": false,
     "start_time": "2021-05-23T05:38:24.919134",
     "status": "completed"
    },
    "tags": []
   },
   "source": [
    "---\n",
    "\n",
    "\n",
    "\n",
    "\n",
    "*Have questions or comments? Visit the [Learn Discussion forum](https://www.kaggle.com/learn-forum/161289) to chat with other Learners.*"
   ]
  }
 ],
 "metadata": {
  "kernelspec": {
   "display_name": "Python 3",
   "language": "python",
   "name": "python3"
  },
  "language_info": {
   "codemirror_mode": {
    "name": "ipython",
    "version": 3
   },
   "file_extension": ".py",
   "mimetype": "text/x-python",
   "name": "python",
   "nbconvert_exporter": "python",
   "pygments_lexer": "ipython3",
   "version": "3.7.9"
  },
  "papermill": {
   "default_parameters": {},
   "duration": 25.977196,
   "end_time": "2021-05-23T05:38:26.670367",
   "environment_variables": {},
   "exception": null,
   "input_path": "__notebook__.ipynb",
   "output_path": "__notebook__.ipynb",
   "parameters": {},
   "start_time": "2021-05-23T05:38:00.693171",
   "version": "2.3.2"
  }
 },
 "nbformat": 4,
 "nbformat_minor": 5
}
