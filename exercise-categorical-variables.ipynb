{
 "cells": [
  {
   "cell_type": "markdown",
   "id": "minimal-bench",
   "metadata": {
    "papermill": {
     "duration": 0.022603,
     "end_time": "2021-05-23T05:37:48.809160",
     "exception": false,
     "start_time": "2021-05-23T05:37:48.786557",
     "status": "completed"
    },
    "tags": []
   },
   "source": [
    "**This notebook is an exercise in the [Intermediate Machine Learning](https://www.kaggle.com/learn/intermediate-machine-learning) course.  You can reference the tutorial at [this link](https://www.kaggle.com/alexisbcook/categorical-variables).**\n",
    "\n",
    "---\n"
   ]
  },
  {
   "cell_type": "markdown",
   "id": "fabulous-confidentiality",
   "metadata": {
    "papermill": {
     "duration": 0.021962,
     "end_time": "2021-05-23T05:37:48.853533",
     "exception": false,
     "start_time": "2021-05-23T05:37:48.831571",
     "status": "completed"
    },
    "tags": []
   },
   "source": [
    "By encoding **categorical variables**, you'll obtain your best results thus far!\n",
    "\n",
    "# Setup\n",
    "\n",
    "The questions below will give you feedback on your work. Run the following cell to set up the feedback system."
   ]
  },
  {
   "cell_type": "code",
   "execution_count": 1,
   "id": "sharp-advisory",
   "metadata": {
    "execution": {
     "iopub.execute_input": "2021-05-23T05:37:48.905117Z",
     "iopub.status.busy": "2021-05-23T05:37:48.904485Z",
     "iopub.status.idle": "2021-05-23T05:37:48.961522Z",
     "shell.execute_reply": "2021-05-23T05:37:48.960777Z",
     "shell.execute_reply.started": "2021-05-22T05:18:09.337858Z"
    },
    "papermill": {
     "duration": 0.085763,
     "end_time": "2021-05-23T05:37:48.961681",
     "exception": false,
     "start_time": "2021-05-23T05:37:48.875918",
     "status": "completed"
    },
    "tags": []
   },
   "outputs": [
    {
     "name": "stdout",
     "output_type": "stream",
     "text": [
      "Setup Complete\n"
     ]
    }
   ],
   "source": [
    "# Set up code checking\n",
    "import os\n",
    "if not os.path.exists(\"../input/train.csv\"):\n",
    "    os.symlink(\"../input/home-data-for-ml-course/train.csv\", \"../input/train.csv\")  \n",
    "    os.symlink(\"../input/home-data-for-ml-course/test.csv\", \"../input/test.csv\") \n",
    "from learntools.core import binder\n",
    "binder.bind(globals())\n",
    "from learntools.ml_intermediate.ex3 import *\n",
    "print(\"Setup Complete\")"
   ]
  },
  {
   "cell_type": "markdown",
   "id": "compact-values",
   "metadata": {
    "papermill": {
     "duration": 0.021925,
     "end_time": "2021-05-23T05:37:49.005294",
     "exception": false,
     "start_time": "2021-05-23T05:37:48.983369",
     "status": "completed"
    },
    "tags": []
   },
   "source": [
    "In this exercise, you will work with data from the [Housing Prices Competition for Kaggle Learn Users](https://www.kaggle.com/c/home-data-for-ml-course). \n",
    "\n",
    "![Ames Housing dataset image](https://i.imgur.com/lTJVG4e.png)\n",
    "\n",
    "Run the next code cell without changes to load the training and validation sets in `X_train`, `X_valid`, `y_train`, and `y_valid`.  The test set is loaded in `X_test`."
   ]
  },
  {
   "cell_type": "code",
   "execution_count": 2,
   "id": "scientific-appendix",
   "metadata": {
    "execution": {
     "iopub.execute_input": "2021-05-23T05:37:49.057405Z",
     "iopub.status.busy": "2021-05-23T05:37:49.056725Z",
     "iopub.status.idle": "2021-05-23T05:37:50.283692Z",
     "shell.execute_reply": "2021-05-23T05:37:50.283127Z",
     "shell.execute_reply.started": "2021-05-22T05:18:25.613154Z"
    },
    "papermill": {
     "duration": 1.25531,
     "end_time": "2021-05-23T05:37:50.283836",
     "exception": false,
     "start_time": "2021-05-23T05:37:49.028526",
     "status": "completed"
    },
    "tags": []
   },
   "outputs": [],
   "source": [
    "import pandas as pd\n",
    "from sklearn.model_selection import train_test_split\n",
    "\n",
    "# Read the data\n",
    "X = pd.read_csv('../input/train.csv', index_col='Id') \n",
    "X_test = pd.read_csv('../input/test.csv', index_col='Id')\n",
    "\n",
    "# Remove rows with missing target, separate target from predictors\n",
    "X.dropna(axis=0, subset=['SalePrice'], inplace=True)\n",
    "y = X.SalePrice\n",
    "X.drop(['SalePrice'], axis=1, inplace=True)\n",
    "\n",
    "# To keep things simple, we'll drop columns with missing values\n",
    "cols_with_missing = [col for col in X.columns if X[col].isnull().any()] \n",
    "X.drop(cols_with_missing, axis=1, inplace=True)\n",
    "X_test.drop(cols_with_missing, axis=1, inplace=True)\n",
    "\n",
    "# Break off validation set from training data\n",
    "X_train, X_valid, y_train, y_valid = train_test_split(X, y,\n",
    "                                                      train_size=0.8, test_size=0.2,\n",
    "                                                      random_state=0)"
   ]
  },
  {
   "cell_type": "markdown",
   "id": "prompt-madrid",
   "metadata": {
    "papermill": {
     "duration": 0.020964,
     "end_time": "2021-05-23T05:37:50.325916",
     "exception": false,
     "start_time": "2021-05-23T05:37:50.304952",
     "status": "completed"
    },
    "tags": []
   },
   "source": [
    "Use the next code cell to print the first five rows of the data."
   ]
  },
  {
   "cell_type": "code",
   "execution_count": 3,
   "id": "entire-covering",
   "metadata": {
    "execution": {
     "iopub.execute_input": "2021-05-23T05:37:50.377824Z",
     "iopub.status.busy": "2021-05-23T05:37:50.377130Z",
     "iopub.status.idle": "2021-05-23T05:37:50.400694Z",
     "shell.execute_reply": "2021-05-23T05:37:50.400242Z",
     "shell.execute_reply.started": "2021-05-22T05:18:31.718833Z"
    },
    "papermill": {
     "duration": 0.053818,
     "end_time": "2021-05-23T05:37:50.400842",
     "exception": false,
     "start_time": "2021-05-23T05:37:50.347024",
     "status": "completed"
    },
    "tags": []
   },
   "outputs": [
    {
     "data": {
      "text/html": [
       "<div>\n",
       "<style scoped>\n",
       "    .dataframe tbody tr th:only-of-type {\n",
       "        vertical-align: middle;\n",
       "    }\n",
       "\n",
       "    .dataframe tbody tr th {\n",
       "        vertical-align: top;\n",
       "    }\n",
       "\n",
       "    .dataframe thead th {\n",
       "        text-align: right;\n",
       "    }\n",
       "</style>\n",
       "<table border=\"1\" class=\"dataframe\">\n",
       "  <thead>\n",
       "    <tr style=\"text-align: right;\">\n",
       "      <th></th>\n",
       "      <th>MSSubClass</th>\n",
       "      <th>MSZoning</th>\n",
       "      <th>LotArea</th>\n",
       "      <th>Street</th>\n",
       "      <th>LotShape</th>\n",
       "      <th>LandContour</th>\n",
       "      <th>Utilities</th>\n",
       "      <th>LotConfig</th>\n",
       "      <th>LandSlope</th>\n",
       "      <th>Neighborhood</th>\n",
       "      <th>...</th>\n",
       "      <th>OpenPorchSF</th>\n",
       "      <th>EnclosedPorch</th>\n",
       "      <th>3SsnPorch</th>\n",
       "      <th>ScreenPorch</th>\n",
       "      <th>PoolArea</th>\n",
       "      <th>MiscVal</th>\n",
       "      <th>MoSold</th>\n",
       "      <th>YrSold</th>\n",
       "      <th>SaleType</th>\n",
       "      <th>SaleCondition</th>\n",
       "    </tr>\n",
       "    <tr>\n",
       "      <th>Id</th>\n",
       "      <th></th>\n",
       "      <th></th>\n",
       "      <th></th>\n",
       "      <th></th>\n",
       "      <th></th>\n",
       "      <th></th>\n",
       "      <th></th>\n",
       "      <th></th>\n",
       "      <th></th>\n",
       "      <th></th>\n",
       "      <th></th>\n",
       "      <th></th>\n",
       "      <th></th>\n",
       "      <th></th>\n",
       "      <th></th>\n",
       "      <th></th>\n",
       "      <th></th>\n",
       "      <th></th>\n",
       "      <th></th>\n",
       "      <th></th>\n",
       "      <th></th>\n",
       "    </tr>\n",
       "  </thead>\n",
       "  <tbody>\n",
       "    <tr>\n",
       "      <th>619</th>\n",
       "      <td>20</td>\n",
       "      <td>RL</td>\n",
       "      <td>11694</td>\n",
       "      <td>Pave</td>\n",
       "      <td>Reg</td>\n",
       "      <td>Lvl</td>\n",
       "      <td>AllPub</td>\n",
       "      <td>Inside</td>\n",
       "      <td>Gtl</td>\n",
       "      <td>NridgHt</td>\n",
       "      <td>...</td>\n",
       "      <td>108</td>\n",
       "      <td>0</td>\n",
       "      <td>0</td>\n",
       "      <td>260</td>\n",
       "      <td>0</td>\n",
       "      <td>0</td>\n",
       "      <td>7</td>\n",
       "      <td>2007</td>\n",
       "      <td>New</td>\n",
       "      <td>Partial</td>\n",
       "    </tr>\n",
       "    <tr>\n",
       "      <th>871</th>\n",
       "      <td>20</td>\n",
       "      <td>RL</td>\n",
       "      <td>6600</td>\n",
       "      <td>Pave</td>\n",
       "      <td>Reg</td>\n",
       "      <td>Lvl</td>\n",
       "      <td>AllPub</td>\n",
       "      <td>Inside</td>\n",
       "      <td>Gtl</td>\n",
       "      <td>NAmes</td>\n",
       "      <td>...</td>\n",
       "      <td>0</td>\n",
       "      <td>0</td>\n",
       "      <td>0</td>\n",
       "      <td>0</td>\n",
       "      <td>0</td>\n",
       "      <td>0</td>\n",
       "      <td>8</td>\n",
       "      <td>2009</td>\n",
       "      <td>WD</td>\n",
       "      <td>Normal</td>\n",
       "    </tr>\n",
       "    <tr>\n",
       "      <th>93</th>\n",
       "      <td>30</td>\n",
       "      <td>RL</td>\n",
       "      <td>13360</td>\n",
       "      <td>Pave</td>\n",
       "      <td>IR1</td>\n",
       "      <td>HLS</td>\n",
       "      <td>AllPub</td>\n",
       "      <td>Inside</td>\n",
       "      <td>Gtl</td>\n",
       "      <td>Crawfor</td>\n",
       "      <td>...</td>\n",
       "      <td>0</td>\n",
       "      <td>44</td>\n",
       "      <td>0</td>\n",
       "      <td>0</td>\n",
       "      <td>0</td>\n",
       "      <td>0</td>\n",
       "      <td>8</td>\n",
       "      <td>2009</td>\n",
       "      <td>WD</td>\n",
       "      <td>Normal</td>\n",
       "    </tr>\n",
       "    <tr>\n",
       "      <th>818</th>\n",
       "      <td>20</td>\n",
       "      <td>RL</td>\n",
       "      <td>13265</td>\n",
       "      <td>Pave</td>\n",
       "      <td>IR1</td>\n",
       "      <td>Lvl</td>\n",
       "      <td>AllPub</td>\n",
       "      <td>CulDSac</td>\n",
       "      <td>Gtl</td>\n",
       "      <td>Mitchel</td>\n",
       "      <td>...</td>\n",
       "      <td>59</td>\n",
       "      <td>0</td>\n",
       "      <td>0</td>\n",
       "      <td>0</td>\n",
       "      <td>0</td>\n",
       "      <td>0</td>\n",
       "      <td>7</td>\n",
       "      <td>2008</td>\n",
       "      <td>WD</td>\n",
       "      <td>Normal</td>\n",
       "    </tr>\n",
       "    <tr>\n",
       "      <th>303</th>\n",
       "      <td>20</td>\n",
       "      <td>RL</td>\n",
       "      <td>13704</td>\n",
       "      <td>Pave</td>\n",
       "      <td>IR1</td>\n",
       "      <td>Lvl</td>\n",
       "      <td>AllPub</td>\n",
       "      <td>Corner</td>\n",
       "      <td>Gtl</td>\n",
       "      <td>CollgCr</td>\n",
       "      <td>...</td>\n",
       "      <td>81</td>\n",
       "      <td>0</td>\n",
       "      <td>0</td>\n",
       "      <td>0</td>\n",
       "      <td>0</td>\n",
       "      <td>0</td>\n",
       "      <td>1</td>\n",
       "      <td>2006</td>\n",
       "      <td>WD</td>\n",
       "      <td>Normal</td>\n",
       "    </tr>\n",
       "  </tbody>\n",
       "</table>\n",
       "<p>5 rows × 60 columns</p>\n",
       "</div>"
      ],
      "text/plain": [
       "     MSSubClass MSZoning  LotArea Street LotShape LandContour Utilities  \\\n",
       "Id                                                                        \n",
       "619          20       RL    11694   Pave      Reg         Lvl    AllPub   \n",
       "871          20       RL     6600   Pave      Reg         Lvl    AllPub   \n",
       "93           30       RL    13360   Pave      IR1         HLS    AllPub   \n",
       "818          20       RL    13265   Pave      IR1         Lvl    AllPub   \n",
       "303          20       RL    13704   Pave      IR1         Lvl    AllPub   \n",
       "\n",
       "    LotConfig LandSlope Neighborhood  ... OpenPorchSF EnclosedPorch 3SsnPorch  \\\n",
       "Id                                    ...                                       \n",
       "619    Inside       Gtl      NridgHt  ...         108             0         0   \n",
       "871    Inside       Gtl        NAmes  ...           0             0         0   \n",
       "93     Inside       Gtl      Crawfor  ...           0            44         0   \n",
       "818   CulDSac       Gtl      Mitchel  ...          59             0         0   \n",
       "303    Corner       Gtl      CollgCr  ...          81             0         0   \n",
       "\n",
       "    ScreenPorch  PoolArea  MiscVal  MoSold  YrSold SaleType SaleCondition  \n",
       "Id                                                                         \n",
       "619         260         0        0       7    2007      New       Partial  \n",
       "871           0         0        0       8    2009       WD        Normal  \n",
       "93            0         0        0       8    2009       WD        Normal  \n",
       "818           0         0        0       7    2008       WD        Normal  \n",
       "303           0         0        0       1    2006       WD        Normal  \n",
       "\n",
       "[5 rows x 60 columns]"
      ]
     },
     "execution_count": 3,
     "metadata": {},
     "output_type": "execute_result"
    }
   ],
   "source": [
    "X_train.head()"
   ]
  },
  {
   "cell_type": "markdown",
   "id": "plastic-communist",
   "metadata": {
    "papermill": {
     "duration": 0.021927,
     "end_time": "2021-05-23T05:37:50.444855",
     "exception": false,
     "start_time": "2021-05-23T05:37:50.422928",
     "status": "completed"
    },
    "tags": []
   },
   "source": [
    "Notice that the dataset contains both numerical and categorical variables.  You'll need to encode the categorical data before training a model.\n",
    "\n",
    "To compare different models, you'll use the same `score_dataset()` function from the tutorial.  This function reports the [mean absolute error](https://en.wikipedia.org/wiki/Mean_absolute_error) (MAE) from a random forest model."
   ]
  },
  {
   "cell_type": "code",
   "execution_count": 4,
   "id": "assured-crack",
   "metadata": {
    "execution": {
     "iopub.execute_input": "2021-05-23T05:37:50.493791Z",
     "iopub.status.busy": "2021-05-23T05:37:50.493176Z",
     "iopub.status.idle": "2021-05-23T05:37:50.718851Z",
     "shell.execute_reply": "2021-05-23T05:37:50.718331Z",
     "shell.execute_reply.started": "2021-05-22T05:24:57.858616Z"
    },
    "papermill": {
     "duration": 0.252197,
     "end_time": "2021-05-23T05:37:50.718984",
     "exception": false,
     "start_time": "2021-05-23T05:37:50.466787",
     "status": "completed"
    },
    "tags": []
   },
   "outputs": [],
   "source": [
    "from sklearn.ensemble import RandomForestRegressor\n",
    "from sklearn.metrics import mean_absolute_error\n",
    "\n",
    "# function for comparing different approaches\n",
    "def score_dataset(X_train, X_valid, y_train, y_valid):\n",
    "    model = RandomForestRegressor(n_estimators=100, random_state=0)\n",
    "    model.fit(X_train, y_train)\n",
    "    preds = model.predict(X_valid)\n",
    "    return mean_absolute_error(y_valid, preds)"
   ]
  },
  {
   "cell_type": "markdown",
   "id": "smoking-reggae",
   "metadata": {
    "papermill": {
     "duration": 0.02123,
     "end_time": "2021-05-23T05:37:50.761796",
     "exception": false,
     "start_time": "2021-05-23T05:37:50.740566",
     "status": "completed"
    },
    "tags": []
   },
   "source": [
    "# Step 1: Drop columns with categorical data\n",
    "\n",
    "You'll get started with the most straightforward approach.  Use the code cell below to preprocess the data in `X_train` and `X_valid` to remove columns with categorical data.  Set the preprocessed DataFrames to `drop_X_train` and `drop_X_valid`, respectively.  "
   ]
  },
  {
   "cell_type": "code",
   "execution_count": 5,
   "id": "indie-pioneer",
   "metadata": {
    "execution": {
     "iopub.execute_input": "2021-05-23T05:37:50.817506Z",
     "iopub.status.busy": "2021-05-23T05:37:50.816572Z",
     "iopub.status.idle": "2021-05-23T05:37:50.822439Z",
     "shell.execute_reply": "2021-05-23T05:37:50.821892Z",
     "shell.execute_reply.started": "2021-05-22T05:25:03.908582Z"
    },
    "papermill": {
     "duration": 0.038672,
     "end_time": "2021-05-23T05:37:50.822581",
     "exception": false,
     "start_time": "2021-05-23T05:37:50.783909",
     "status": "completed"
    },
    "tags": []
   },
   "outputs": [
    {
     "data": {
      "application/javascript": [
       "parent.postMessage({\"jupyterEvent\": \"custom.exercise_interaction\", \"data\": {\"outcomeType\": 1, \"valueTowardsCompletion\": 0.5, \"interactionType\": 1, \"questionType\": 2, \"questionId\": \"1_Drop\", \"learnToolsVersion\": \"0.3.4\", \"failureMessage\": \"\", \"exceptionClass\": \"\", \"trace\": \"\"}}, \"*\")"
      ],
      "text/plain": [
       "<IPython.core.display.Javascript object>"
      ]
     },
     "metadata": {},
     "output_type": "display_data"
    },
    {
     "data": {
      "text/markdown": [
       "<span style=\"color:#33cc33\">Correct</span>"
      ],
      "text/plain": [
       "Correct"
      ]
     },
     "metadata": {},
     "output_type": "display_data"
    }
   ],
   "source": [
    "# Fill in the lines below: drop columns in training and validation data\n",
    "drop_X_train = X_train.select_dtypes(exclude=['object'])\n",
    "drop_X_valid = X_valid.select_dtypes(exclude=['object'])\n",
    "\n",
    "# Check your answers\n",
    "step_1.check()"
   ]
  },
  {
   "cell_type": "code",
   "execution_count": 6,
   "id": "premium-produce",
   "metadata": {
    "execution": {
     "iopub.execute_input": "2021-05-23T05:37:50.871053Z",
     "iopub.status.busy": "2021-05-23T05:37:50.870142Z",
     "iopub.status.idle": "2021-05-23T05:37:50.873718Z",
     "shell.execute_reply": "2021-05-23T05:37:50.874187Z",
     "shell.execute_reply.started": "2021-05-22T05:25:16.173844Z"
    },
    "papermill": {
     "duration": 0.029328,
     "end_time": "2021-05-23T05:37:50.874433",
     "exception": false,
     "start_time": "2021-05-23T05:37:50.845105",
     "status": "completed"
    },
    "tags": []
   },
   "outputs": [],
   "source": [
    "# Lines below will give you a hint or solution code\n",
    "#step_1.hint()\n",
    "#step_1.solution()"
   ]
  },
  {
   "cell_type": "markdown",
   "id": "occasional-deposit",
   "metadata": {
    "papermill": {
     "duration": 0.022065,
     "end_time": "2021-05-23T05:37:50.918755",
     "exception": false,
     "start_time": "2021-05-23T05:37:50.896690",
     "status": "completed"
    },
    "tags": []
   },
   "source": [
    "Run the next code cell to get the MAE for this approach."
   ]
  },
  {
   "cell_type": "code",
   "execution_count": 7,
   "id": "harmful-store",
   "metadata": {
    "execution": {
     "iopub.execute_input": "2021-05-23T05:37:50.967425Z",
     "iopub.status.busy": "2021-05-23T05:37:50.966435Z",
     "iopub.status.idle": "2021-05-23T05:37:52.039094Z",
     "shell.execute_reply": "2021-05-23T05:37:52.038242Z",
     "shell.execute_reply.started": "2021-05-22T05:25:20.518008Z"
    },
    "papermill": {
     "duration": 1.09815,
     "end_time": "2021-05-23T05:37:52.039312",
     "exception": false,
     "start_time": "2021-05-23T05:37:50.941162",
     "status": "completed"
    },
    "tags": []
   },
   "outputs": [
    {
     "name": "stdout",
     "output_type": "stream",
     "text": [
      "MAE from Approach 1 (Drop categorical variables):\n",
      "17837.82570776256\n"
     ]
    }
   ],
   "source": [
    "print(\"MAE from Approach 1 (Drop categorical variables):\")\n",
    "print(score_dataset(drop_X_train, drop_X_valid, y_train, y_valid))"
   ]
  },
  {
   "cell_type": "markdown",
   "id": "heavy-superior",
   "metadata": {
    "papermill": {
     "duration": 0.022447,
     "end_time": "2021-05-23T05:37:52.085157",
     "exception": false,
     "start_time": "2021-05-23T05:37:52.062710",
     "status": "completed"
    },
    "tags": []
   },
   "source": [
    "Before jumping into label encoding, we'll investigate the dataset.  Specifically, we'll look at the `'Condition2'` column.  The code cell below prints the unique entries in both the training and validation sets."
   ]
  },
  {
   "cell_type": "code",
   "execution_count": 8,
   "id": "separated-parade",
   "metadata": {
    "execution": {
     "iopub.execute_input": "2021-05-23T05:37:52.144613Z",
     "iopub.status.busy": "2021-05-23T05:37:52.143837Z",
     "iopub.status.idle": "2021-05-23T05:37:52.149635Z",
     "shell.execute_reply": "2021-05-23T05:37:52.149080Z",
     "shell.execute_reply.started": "2021-05-22T05:25:26.932871Z"
    },
    "papermill": {
     "duration": 0.041535,
     "end_time": "2021-05-23T05:37:52.149774",
     "exception": false,
     "start_time": "2021-05-23T05:37:52.108239",
     "status": "completed"
    },
    "tags": []
   },
   "outputs": [
    {
     "name": "stdout",
     "output_type": "stream",
     "text": [
      "Unique values in 'Condition2' column in training data: ['Norm' 'PosA' 'Feedr' 'PosN' 'Artery' 'RRAe']\n",
      "\n",
      "Unique values in 'Condition2' column in validation data: ['Norm' 'RRAn' 'RRNn' 'Artery' 'Feedr' 'PosN']\n"
     ]
    }
   ],
   "source": [
    "print(\"Unique values in 'Condition2' column in training data:\", X_train['Condition2'].unique())\n",
    "print(\"\\nUnique values in 'Condition2' column in validation data:\", X_valid['Condition2'].unique())"
   ]
  },
  {
   "cell_type": "markdown",
   "id": "authentic-production",
   "metadata": {
    "papermill": {
     "duration": 0.034951,
     "end_time": "2021-05-23T05:37:52.218628",
     "exception": false,
     "start_time": "2021-05-23T05:37:52.183677",
     "status": "completed"
    },
    "tags": []
   },
   "source": [
    "# Step 2: Label encoding\n",
    "\n",
    "### Part A\n",
    "\n",
    "If you now write code to: \n",
    "- fit a label encoder to the training data, and then \n",
    "- use it to transform both the training and validation data, \n",
    "\n",
    "you'll get an error.  Can you see why this is the case?  (_You'll need  to use the above output to answer this question._)"
   ]
  },
  {
   "cell_type": "code",
   "execution_count": 9,
   "id": "varied-terrain",
   "metadata": {
    "execution": {
     "iopub.execute_input": "2021-05-23T05:37:52.271566Z",
     "iopub.status.busy": "2021-05-23T05:37:52.270758Z",
     "iopub.status.idle": "2021-05-23T05:37:52.276896Z",
     "shell.execute_reply": "2021-05-23T05:37:52.276354Z",
     "shell.execute_reply.started": "2021-05-22T05:25:32.783557Z"
    },
    "papermill": {
     "duration": 0.03418,
     "end_time": "2021-05-23T05:37:52.277021",
     "exception": false,
     "start_time": "2021-05-23T05:37:52.242841",
     "status": "completed"
    },
    "tags": []
   },
   "outputs": [
    {
     "data": {
      "application/javascript": [
       "parent.postMessage({\"jupyterEvent\": \"custom.exercise_interaction\", \"data\": {\"outcomeType\": 1, \"valueTowardsCompletion\": 0.5, \"interactionType\": 1, \"questionType\": 4, \"questionId\": \"2.1_LabelA\", \"learnToolsVersion\": \"0.3.4\", \"failureMessage\": \"\", \"exceptionClass\": \"\", \"trace\": \"\"}}, \"*\")"
      ],
      "text/plain": [
       "<IPython.core.display.Javascript object>"
      ]
     },
     "metadata": {},
     "output_type": "display_data"
    },
    {
     "data": {
      "text/markdown": [
       "<span style=\"color:#33cc33\">Correct:</span> \n",
       "\n",
       "Fitting a label encoder to a column in the training data creates a corresponding integer-valued label for each unique value **that appears in the training data**. In the case that the validation data contains values that don't also appear in the training data, the encoder will throw an error, because these values won't have an integer assigned to them.  Notice that the `'Condition2'` column in the validation data contains the values `'RRAn'` and `'RRNn'`, but these don't appear in the training data -- thus, if we try to use a label encoder with scikit-learn, the code will throw an error."
      ],
      "text/plain": [
       "Correct: \n",
       "\n",
       "Fitting a label encoder to a column in the training data creates a corresponding integer-valued label for each unique value **that appears in the training data**. In the case that the validation data contains values that don't also appear in the training data, the encoder will throw an error, because these values won't have an integer assigned to them.  Notice that the `'Condition2'` column in the validation data contains the values `'RRAn'` and `'RRNn'`, but these don't appear in the training data -- thus, if we try to use a label encoder with scikit-learn, the code will throw an error."
      ]
     },
     "metadata": {},
     "output_type": "display_data"
    }
   ],
   "source": [
    "# Check your answer (Run this code cell to receive credit!)\n",
    "step_2.a.check()"
   ]
  },
  {
   "cell_type": "code",
   "execution_count": 10,
   "id": "desirable-parameter",
   "metadata": {
    "execution": {
     "iopub.execute_input": "2021-05-23T05:37:52.329123Z",
     "iopub.status.busy": "2021-05-23T05:37:52.328597Z",
     "iopub.status.idle": "2021-05-23T05:37:52.331838Z",
     "shell.execute_reply": "2021-05-23T05:37:52.331256Z",
     "shell.execute_reply.started": "2021-05-22T05:25:37.248072Z"
    },
    "papermill": {
     "duration": 0.030812,
     "end_time": "2021-05-23T05:37:52.331974",
     "exception": false,
     "start_time": "2021-05-23T05:37:52.301162",
     "status": "completed"
    },
    "tags": []
   },
   "outputs": [],
   "source": [
    "#step_2.a.hint()"
   ]
  },
  {
   "cell_type": "markdown",
   "id": "rolled-genesis",
   "metadata": {
    "papermill": {
     "duration": 0.023572,
     "end_time": "2021-05-23T05:37:52.379624",
     "exception": false,
     "start_time": "2021-05-23T05:37:52.356052",
     "status": "completed"
    },
    "tags": []
   },
   "source": [
    "This is a common problem that you'll encounter with real-world data, and there are many approaches to fixing this issue.  For instance, you can write a custom label encoder to deal with new categories.  The simplest approach, however, is to drop the problematic categorical columns.  \n",
    "\n",
    "Run the code cell below to save the problematic columns to a Python list `bad_label_cols`.  Likewise, columns that can be safely label encoded are stored in `good_label_cols`."
   ]
  },
  {
   "cell_type": "code",
   "execution_count": 11,
   "id": "happy-vehicle",
   "metadata": {
    "execution": {
     "iopub.execute_input": "2021-05-23T05:37:52.441358Z",
     "iopub.status.busy": "2021-05-23T05:37:52.440399Z",
     "iopub.status.idle": "2021-05-23T05:37:52.444549Z",
     "shell.execute_reply": "2021-05-23T05:37:52.443942Z",
     "shell.execute_reply.started": "2021-05-22T05:25:43.012964Z"
    },
    "papermill": {
     "duration": 0.040337,
     "end_time": "2021-05-23T05:37:52.444681",
     "exception": false,
     "start_time": "2021-05-23T05:37:52.404344",
     "status": "completed"
    },
    "tags": []
   },
   "outputs": [
    {
     "name": "stdout",
     "output_type": "stream",
     "text": [
      "Categorical columns that will be label encoded: ['MSZoning', 'Street', 'LotShape', 'LandContour', 'LotConfig', 'BldgType', 'HouseStyle', 'ExterQual', 'CentralAir', 'KitchenQual', 'PavedDrive', 'SaleCondition']\n",
      "\n",
      "Categorical columns that will be dropped from the dataset: ['Functional', 'RoofMatl', 'Foundation', 'Exterior2nd', 'Exterior1st', 'ExterCond', 'Condition2', 'LandSlope', 'Utilities', 'SaleType', 'Condition1', 'Heating', 'HeatingQC', 'Neighborhood', 'RoofStyle']\n"
     ]
    }
   ],
   "source": [
    "# All categorical columns\n",
    "object_cols = [col for col in X_train.columns if X_train[col].dtype == \"object\"]\n",
    "\n",
    "# Columns that can be safely label encoded\n",
    "good_label_cols = [col for col in object_cols if \n",
    "                   set(X_train[col]) == set(X_valid[col])]\n",
    "        \n",
    "# Problematic columns that will be dropped from the dataset\n",
    "bad_label_cols = list(set(object_cols)-set(good_label_cols))\n",
    "        \n",
    "print('Categorical columns that will be label encoded:', good_label_cols)\n",
    "print('\\nCategorical columns that will be dropped from the dataset:', bad_label_cols)"
   ]
  },
  {
   "cell_type": "markdown",
   "id": "assisted-korea",
   "metadata": {
    "papermill": {
     "duration": 0.023929,
     "end_time": "2021-05-23T05:37:52.492657",
     "exception": false,
     "start_time": "2021-05-23T05:37:52.468728",
     "status": "completed"
    },
    "tags": []
   },
   "source": [
    "### Part B\n",
    "\n",
    "Use the next code cell to label encode the data in `X_train` and `X_valid`.  Set the preprocessed DataFrames to `label_X_train` and `label_X_valid`, respectively.  \n",
    "- We have provided code below to drop the categorical columns in `bad_label_cols` from the dataset. \n",
    "- You should label encode the categorical columns in `good_label_cols`.  "
   ]
  },
  {
   "cell_type": "code",
   "execution_count": 12,
   "id": "afraid-saver",
   "metadata": {
    "execution": {
     "iopub.execute_input": "2021-05-23T05:37:52.558807Z",
     "iopub.status.busy": "2021-05-23T05:37:52.550293Z",
     "iopub.status.idle": "2021-05-23T05:37:52.566445Z",
     "shell.execute_reply": "2021-05-23T05:37:52.565951Z",
     "shell.execute_reply.started": "2021-05-22T05:34:17.74312Z"
    },
    "papermill": {
     "duration": 0.049924,
     "end_time": "2021-05-23T05:37:52.566573",
     "exception": false,
     "start_time": "2021-05-23T05:37:52.516649",
     "status": "completed"
    },
    "tags": []
   },
   "outputs": [
    {
     "data": {
      "application/javascript": [
       "parent.postMessage({\"jupyterEvent\": \"custom.exercise_interaction\", \"data\": {\"outcomeType\": 1, \"valueTowardsCompletion\": 0.5, \"interactionType\": 1, \"questionType\": 2, \"questionId\": \"2.2_LabelB\", \"learnToolsVersion\": \"0.3.4\", \"failureMessage\": \"\", \"exceptionClass\": \"\", \"trace\": \"\"}}, \"*\")"
      ],
      "text/plain": [
       "<IPython.core.display.Javascript object>"
      ]
     },
     "metadata": {},
     "output_type": "display_data"
    },
    {
     "data": {
      "text/markdown": [
       "<span style=\"color:#33cc33\">Correct</span>"
      ],
      "text/plain": [
       "Correct"
      ]
     },
     "metadata": {},
     "output_type": "display_data"
    }
   ],
   "source": [
    "from sklearn.preprocessing import LabelEncoder\n",
    "\n",
    "# Drop categorical columns that will not be encoded\n",
    "label_X_train = X_train.drop(bad_label_cols, axis=1)\n",
    "label_X_valid = X_valid.drop(bad_label_cols, axis=1)\n",
    "\n",
    "# Apply label encoder \n",
    "label_encoder = LabelEncoder()\n",
    "for col in set(good_label_cols):\n",
    "    label_X_train[col] = label_encoder.fit_transform(X_train[col]) # Your code here\n",
    "    label_X_valid[col] = label_encoder.transform(X_valid[col])    \n",
    "# Check your answer\n",
    "step_2.b.check()"
   ]
  },
  {
   "cell_type": "code",
   "execution_count": 13,
   "id": "rapid-plumbing",
   "metadata": {
    "execution": {
     "iopub.execute_input": "2021-05-23T05:37:52.620132Z",
     "iopub.status.busy": "2021-05-23T05:37:52.619608Z",
     "iopub.status.idle": "2021-05-23T05:37:52.622435Z",
     "shell.execute_reply": "2021-05-23T05:37:52.621906Z",
     "shell.execute_reply.started": "2021-05-22T05:34:27.15806Z"
    },
    "papermill": {
     "duration": 0.031062,
     "end_time": "2021-05-23T05:37:52.622570",
     "exception": false,
     "start_time": "2021-05-23T05:37:52.591508",
     "status": "completed"
    },
    "tags": []
   },
   "outputs": [],
   "source": [
    "# Lines below will give you a hint or solution code\n",
    "#step_2.b.hint()\n",
    "#step_2.b.solution()"
   ]
  },
  {
   "cell_type": "markdown",
   "id": "necessary-handling",
   "metadata": {
    "papermill": {
     "duration": 0.024735,
     "end_time": "2021-05-23T05:37:52.672141",
     "exception": false,
     "start_time": "2021-05-23T05:37:52.647406",
     "status": "completed"
    },
    "tags": []
   },
   "source": [
    "Run the next code cell to get the MAE for this approach."
   ]
  },
  {
   "cell_type": "code",
   "execution_count": 14,
   "id": "ranging-table",
   "metadata": {
    "execution": {
     "iopub.execute_input": "2021-05-23T05:37:52.724839Z",
     "iopub.status.busy": "2021-05-23T05:37:52.724226Z",
     "iopub.status.idle": "2021-05-23T05:37:53.915607Z",
     "shell.execute_reply": "2021-05-23T05:37:53.916254Z",
     "shell.execute_reply.started": "2021-05-22T05:36:16.698494Z"
    },
    "papermill": {
     "duration": 1.21914,
     "end_time": "2021-05-23T05:37:53.916468",
     "exception": false,
     "start_time": "2021-05-23T05:37:52.697328",
     "status": "completed"
    },
    "tags": []
   },
   "outputs": [
    {
     "name": "stdout",
     "output_type": "stream",
     "text": [
      "MAE from Approach 2 (Label Encoding):\n",
      "17575.291883561644\n"
     ]
    }
   ],
   "source": [
    "print(\"MAE from Approach 2 (Label Encoding):\") \n",
    "print(score_dataset(label_X_train, label_X_valid, y_train, y_valid))"
   ]
  },
  {
   "cell_type": "markdown",
   "id": "fallen-paste",
   "metadata": {
    "papermill": {
     "duration": 0.026337,
     "end_time": "2021-05-23T05:37:53.968806",
     "exception": false,
     "start_time": "2021-05-23T05:37:53.942469",
     "status": "completed"
    },
    "tags": []
   },
   "source": [
    "So far, you've tried two different approaches to dealing with categorical variables.  And, you've seen that encoding categorical data yields better results than removing columns from the dataset.\n",
    "\n",
    "Soon, you'll try one-hot encoding.  Before then, there's one additional topic we need to cover.  Begin by running the next code cell without changes.  "
   ]
  },
  {
   "cell_type": "code",
   "execution_count": 15,
   "id": "rotary-characterization",
   "metadata": {
    "execution": {
     "iopub.execute_input": "2021-05-23T05:37:54.025869Z",
     "iopub.status.busy": "2021-05-23T05:37:54.025296Z",
     "iopub.status.idle": "2021-05-23T05:37:54.039371Z",
     "shell.execute_reply": "2021-05-23T05:37:54.039883Z",
     "shell.execute_reply.started": "2021-05-22T05:36:29.298536Z"
    },
    "papermill": {
     "duration": 0.046108,
     "end_time": "2021-05-23T05:37:54.040038",
     "exception": false,
     "start_time": "2021-05-23T05:37:53.993930",
     "status": "completed"
    },
    "tags": []
   },
   "outputs": [
    {
     "data": {
      "text/plain": [
       "[('Street', 2),\n",
       " ('Utilities', 2),\n",
       " ('CentralAir', 2),\n",
       " ('LandSlope', 3),\n",
       " ('PavedDrive', 3),\n",
       " ('LotShape', 4),\n",
       " ('LandContour', 4),\n",
       " ('ExterQual', 4),\n",
       " ('KitchenQual', 4),\n",
       " ('MSZoning', 5),\n",
       " ('LotConfig', 5),\n",
       " ('BldgType', 5),\n",
       " ('ExterCond', 5),\n",
       " ('HeatingQC', 5),\n",
       " ('Condition2', 6),\n",
       " ('RoofStyle', 6),\n",
       " ('Foundation', 6),\n",
       " ('Heating', 6),\n",
       " ('Functional', 6),\n",
       " ('SaleCondition', 6),\n",
       " ('RoofMatl', 7),\n",
       " ('HouseStyle', 8),\n",
       " ('Condition1', 9),\n",
       " ('SaleType', 9),\n",
       " ('Exterior1st', 15),\n",
       " ('Exterior2nd', 16),\n",
       " ('Neighborhood', 25)]"
      ]
     },
     "execution_count": 15,
     "metadata": {},
     "output_type": "execute_result"
    }
   ],
   "source": [
    "# Get number of unique entries in each column with categorical data\n",
    "object_nunique = list(map(lambda col: X_train[col].nunique(), object_cols))\n",
    "d = dict(zip(object_cols, object_nunique))\n",
    "\n",
    "# Print number of unique entries by column, in ascending order\n",
    "sorted(d.items(), key=lambda x: x[1])"
   ]
  },
  {
   "cell_type": "markdown",
   "id": "fatty-panic",
   "metadata": {
    "papermill": {
     "duration": 0.025077,
     "end_time": "2021-05-23T05:37:54.090484",
     "exception": false,
     "start_time": "2021-05-23T05:37:54.065407",
     "status": "completed"
    },
    "tags": []
   },
   "source": [
    "# Step 3: Investigating cardinality\n",
    "\n",
    "### Part A\n",
    "\n",
    "The output above shows, for each column with categorical data, the number of unique values in the column.  For instance, the `'Street'` column in the training data has two unique values: `'Grvl'` and `'Pave'`, corresponding to a gravel road and a paved road, respectively.\n",
    "\n",
    "We refer to the number of unique entries of a categorical variable as the **cardinality** of that categorical variable.  For instance, the `'Street'` variable has cardinality 2.\n",
    "\n",
    "Use the output above to answer the questions below."
   ]
  },
  {
   "cell_type": "code",
   "execution_count": 16,
   "id": "artificial-hands",
   "metadata": {
    "execution": {
     "iopub.execute_input": "2021-05-23T05:37:54.145424Z",
     "iopub.status.busy": "2021-05-23T05:37:54.144777Z",
     "iopub.status.idle": "2021-05-23T05:37:54.150377Z",
     "shell.execute_reply": "2021-05-23T05:37:54.150865Z",
     "shell.execute_reply.started": "2021-05-22T05:46:07.338818Z"
    },
    "papermill": {
     "duration": 0.034783,
     "end_time": "2021-05-23T05:37:54.151020",
     "exception": false,
     "start_time": "2021-05-23T05:37:54.116237",
     "status": "completed"
    },
    "tags": []
   },
   "outputs": [
    {
     "data": {
      "application/javascript": [
       "parent.postMessage({\"jupyterEvent\": \"custom.exercise_interaction\", \"data\": {\"outcomeType\": 1, \"valueTowardsCompletion\": 0.5, \"interactionType\": 1, \"questionType\": 1, \"questionId\": \"3.1_CardinalityA\", \"learnToolsVersion\": \"0.3.4\", \"failureMessage\": \"\", \"exceptionClass\": \"\", \"trace\": \"\"}}, \"*\")"
      ],
      "text/plain": [
       "<IPython.core.display.Javascript object>"
      ]
     },
     "metadata": {},
     "output_type": "display_data"
    },
    {
     "data": {
      "text/markdown": [
       "<span style=\"color:#33cc33\">Correct</span>"
      ],
      "text/plain": [
       "Correct"
      ]
     },
     "metadata": {},
     "output_type": "display_data"
    }
   ],
   "source": [
    "# Fill in the line below: How many categorical variables in the training data\n",
    "# have cardinality greater than 10?\n",
    "high_cardinality_numcols = 3\n",
    "\n",
    "# Fill in the line below: How many columns are needed to one-hot encode the \n",
    "# 'Neighborhood' variable in the training data?\n",
    "num_cols_neighborhood = 25\n",
    "\n",
    "# Check your answers\n",
    "step_3.a.check()"
   ]
  },
  {
   "cell_type": "code",
   "execution_count": 17,
   "id": "western-attendance",
   "metadata": {
    "execution": {
     "iopub.execute_input": "2021-05-23T05:37:54.225258Z",
     "iopub.status.busy": "2021-05-23T05:37:54.224649Z",
     "iopub.status.idle": "2021-05-23T05:37:54.229417Z",
     "shell.execute_reply": "2021-05-23T05:37:54.228905Z",
     "shell.execute_reply.started": "2021-05-22T05:47:19.61861Z"
    },
    "papermill": {
     "duration": 0.039692,
     "end_time": "2021-05-23T05:37:54.229554",
     "exception": false,
     "start_time": "2021-05-23T05:37:54.189862",
     "status": "completed"
    },
    "tags": []
   },
   "outputs": [],
   "source": [
    "# Lines below will give you a hint or solution code\n",
    "#step_3.a.hint()\n",
    "#step_3.a.solution()"
   ]
  },
  {
   "cell_type": "markdown",
   "id": "concerned-serve",
   "metadata": {
    "papermill": {
     "duration": 0.037453,
     "end_time": "2021-05-23T05:37:54.293222",
     "exception": false,
     "start_time": "2021-05-23T05:37:54.255769",
     "status": "completed"
    },
    "tags": []
   },
   "source": [
    "### Part B\n",
    "\n",
    "For large datasets with many rows, one-hot encoding can greatly expand the size of the dataset.  For this reason, we typically will only one-hot encode columns with relatively low cardinality.  Then, high cardinality columns can either be dropped from the dataset, or we can use label encoding.\n",
    "\n",
    "As an example, consider a dataset with 10,000 rows, and containing one categorical column with 100 unique entries.  \n",
    "- If this column is replaced with the corresponding one-hot encoding, how many entries are added to the dataset?  \n",
    "- If we instead replace the column with the label encoding, how many entries are added?  \n",
    "\n",
    "Use your answers to fill in the lines below."
   ]
  },
  {
   "cell_type": "code",
   "execution_count": 18,
   "id": "recorded-setting",
   "metadata": {
    "execution": {
     "iopub.execute_input": "2021-05-23T05:37:54.349778Z",
     "iopub.status.busy": "2021-05-23T05:37:54.348846Z",
     "iopub.status.idle": "2021-05-23T05:37:54.354132Z",
     "shell.execute_reply": "2021-05-23T05:37:54.354880Z",
     "shell.execute_reply.started": "2021-05-22T05:49:14.843212Z"
    },
    "papermill": {
     "duration": 0.035647,
     "end_time": "2021-05-23T05:37:54.355093",
     "exception": false,
     "start_time": "2021-05-23T05:37:54.319446",
     "status": "completed"
    },
    "tags": []
   },
   "outputs": [
    {
     "data": {
      "application/javascript": [
       "parent.postMessage({\"jupyterEvent\": \"custom.exercise_interaction\", \"data\": {\"outcomeType\": 1, \"valueTowardsCompletion\": 0.5, \"interactionType\": 1, \"questionType\": 1, \"questionId\": \"3.2_CardinalityB\", \"learnToolsVersion\": \"0.3.4\", \"failureMessage\": \"\", \"exceptionClass\": \"\", \"trace\": \"\"}}, \"*\")"
      ],
      "text/plain": [
       "<IPython.core.display.Javascript object>"
      ]
     },
     "metadata": {},
     "output_type": "display_data"
    },
    {
     "data": {
      "text/markdown": [
       "<span style=\"color:#33cc33\">Correct</span>"
      ],
      "text/plain": [
       "Correct"
      ]
     },
     "metadata": {},
     "output_type": "display_data"
    }
   ],
   "source": [
    "# Fill in the line below: How many entries are added to the dataset by \n",
    "# replacing the column with a one-hot encoding?\n",
    "OH_entries_added = 1e4*100 - 1e4\n",
    "\n",
    "# Fill in the line below: How many entries are added to the dataset by\n",
    "# replacing the column with a label encoding?\n",
    "label_entries_added = 0\n",
    "\n",
    "# Check your answers\n",
    "step_3.b.check()"
   ]
  },
  {
   "cell_type": "code",
   "execution_count": 19,
   "id": "attended-navigator",
   "metadata": {
    "execution": {
     "iopub.execute_input": "2021-05-23T05:37:54.437296Z",
     "iopub.status.busy": "2021-05-23T05:37:54.436729Z",
     "iopub.status.idle": "2021-05-23T05:37:54.439137Z",
     "shell.execute_reply": "2021-05-23T05:37:54.438624Z",
     "shell.execute_reply.started": "2021-05-22T05:49:22.238659Z"
    },
    "papermill": {
     "duration": 0.035015,
     "end_time": "2021-05-23T05:37:54.439279",
     "exception": false,
     "start_time": "2021-05-23T05:37:54.404264",
     "status": "completed"
    },
    "tags": []
   },
   "outputs": [],
   "source": [
    "# Lines below will give you a hint or solution code\n",
    "#step_3.b.hint()\n",
    "#step_3.b.solution()"
   ]
  },
  {
   "cell_type": "markdown",
   "id": "limiting-cruise",
   "metadata": {
    "papermill": {
     "duration": 0.042884,
     "end_time": "2021-05-23T05:37:54.511504",
     "exception": false,
     "start_time": "2021-05-23T05:37:54.468620",
     "status": "completed"
    },
    "tags": []
   },
   "source": [
    "Next, you'll experiment with one-hot encoding.  But, instead of encoding all of the categorical variables in the dataset, you'll only create a one-hot encoding for columns with cardinality less than 10.\n",
    "\n",
    "Run the code cell below without changes to set `low_cardinality_cols` to a Python list containing the columns that will be one-hot encoded.  Likewise, `high_cardinality_cols` contains a list of categorical columns that will be dropped from the dataset."
   ]
  },
  {
   "cell_type": "code",
   "execution_count": 20,
   "id": "expensive-possible",
   "metadata": {
    "execution": {
     "iopub.execute_input": "2021-05-23T05:37:54.571841Z",
     "iopub.status.busy": "2021-05-23T05:37:54.570909Z",
     "iopub.status.idle": "2021-05-23T05:37:54.585821Z",
     "shell.execute_reply": "2021-05-23T05:37:54.584950Z",
     "shell.execute_reply.started": "2021-05-22T05:49:29.058525Z"
    },
    "papermill": {
     "duration": 0.046868,
     "end_time": "2021-05-23T05:37:54.586036",
     "exception": false,
     "start_time": "2021-05-23T05:37:54.539168",
     "status": "completed"
    },
    "tags": []
   },
   "outputs": [
    {
     "name": "stdout",
     "output_type": "stream",
     "text": [
      "Categorical columns that will be one-hot encoded: ['MSZoning', 'Street', 'LotShape', 'LandContour', 'Utilities', 'LotConfig', 'LandSlope', 'Condition1', 'Condition2', 'BldgType', 'HouseStyle', 'RoofStyle', 'RoofMatl', 'ExterQual', 'ExterCond', 'Foundation', 'Heating', 'HeatingQC', 'CentralAir', 'KitchenQual', 'Functional', 'PavedDrive', 'SaleType', 'SaleCondition']\n",
      "\n",
      "Categorical columns that will be dropped from the dataset: ['Exterior1st', 'Exterior2nd', 'Neighborhood']\n"
     ]
    }
   ],
   "source": [
    "# Columns that will be one-hot encoded\n",
    "low_cardinality_cols = [col for col in object_cols if X_train[col].nunique() < 10]\n",
    "\n",
    "# Columns that will be dropped from the dataset\n",
    "high_cardinality_cols = list(set(object_cols)-set(low_cardinality_cols))\n",
    "\n",
    "print('Categorical columns that will be one-hot encoded:', low_cardinality_cols)\n",
    "print('\\nCategorical columns that will be dropped from the dataset:', high_cardinality_cols)"
   ]
  },
  {
   "cell_type": "markdown",
   "id": "improved-japan",
   "metadata": {
    "papermill": {
     "duration": 0.026965,
     "end_time": "2021-05-23T05:37:54.641336",
     "exception": false,
     "start_time": "2021-05-23T05:37:54.614371",
     "status": "completed"
    },
    "tags": []
   },
   "source": [
    "# Step 4: One-hot encoding\n",
    "\n",
    "Use the next code cell to one-hot encode the data in `X_train` and `X_valid`.  Set the preprocessed DataFrames to `OH_X_train` and `OH_X_valid`, respectively.  \n",
    "- The full list of categorical columns in the dataset can be found in the Python list `object_cols`.\n",
    "- You should only one-hot encode the categorical columns in `low_cardinality_cols`.  All other categorical columns should be dropped from the dataset. "
   ]
  },
  {
   "cell_type": "code",
   "execution_count": 21,
   "id": "round-natural",
   "metadata": {
    "execution": {
     "iopub.execute_input": "2021-05-23T05:37:54.700186Z",
     "iopub.status.busy": "2021-05-23T05:37:54.699356Z",
     "iopub.status.idle": "2021-05-23T05:37:54.733707Z",
     "shell.execute_reply": "2021-05-23T05:37:54.733279Z",
     "shell.execute_reply.started": "2021-05-22T06:02:00.053818Z"
    },
    "papermill": {
     "duration": 0.064889,
     "end_time": "2021-05-23T05:37:54.733841",
     "exception": false,
     "start_time": "2021-05-23T05:37:54.668952",
     "status": "completed"
    },
    "tags": []
   },
   "outputs": [
    {
     "data": {
      "application/javascript": [
       "parent.postMessage({\"jupyterEvent\": \"custom.exercise_interaction\", \"data\": {\"outcomeType\": 1, \"valueTowardsCompletion\": 0.5, \"interactionType\": 1, \"questionType\": 2, \"questionId\": \"4_OneHot\", \"learnToolsVersion\": \"0.3.4\", \"failureMessage\": \"\", \"exceptionClass\": \"\", \"trace\": \"\"}}, \"*\")"
      ],
      "text/plain": [
       "<IPython.core.display.Javascript object>"
      ]
     },
     "metadata": {},
     "output_type": "display_data"
    },
    {
     "data": {
      "text/markdown": [
       "<span style=\"color:#33cc33\">Correct</span>"
      ],
      "text/plain": [
       "Correct"
      ]
     },
     "metadata": {},
     "output_type": "display_data"
    }
   ],
   "source": [
    "from sklearn.preprocessing import OneHotEncoder\n",
    "\n",
    "# Use as many lines of code as you need!\n",
    "OH_encoder = OneHotEncoder(handle_unknown='ignore',sparse=False)\n",
    "OH_cols_train = pd.DataFrame(OH_encoder.fit_transform(X_train[low_cardinality_cols]))\n",
    "OH_cols_valid = pd.DataFrame(OH_encoder.transform(X_valid[low_cardinality_cols]))\n",
    "OH_cols_train.index = X_train.index\n",
    "OH_cols_valid.index = X_valid.index\n",
    "num_X_train = X_train.drop(object_cols,axis=1)\n",
    "num_X_valid=X_valid.drop(object_cols, axis=1)\n",
    "OH_X_train = pd.concat([num_X_train, OH_cols_train], axis= 1) # Your code here\n",
    "OH_X_valid = pd.concat([num_X_valid, OH_cols_valid], axis = 1) # Your code here\n",
    "\n",
    "# Check your answer\n",
    "step_4.check()"
   ]
  },
  {
   "cell_type": "code",
   "execution_count": 22,
   "id": "protecting-society",
   "metadata": {
    "execution": {
     "iopub.execute_input": "2021-05-23T05:37:54.795284Z",
     "iopub.status.busy": "2021-05-23T05:37:54.794652Z",
     "iopub.status.idle": "2021-05-23T05:37:54.797584Z",
     "shell.execute_reply": "2021-05-23T05:37:54.797116Z",
     "shell.execute_reply.started": "2021-05-22T06:02:07.492735Z"
    },
    "papermill": {
     "duration": 0.03607,
     "end_time": "2021-05-23T05:37:54.797710",
     "exception": false,
     "start_time": "2021-05-23T05:37:54.761640",
     "status": "completed"
    },
    "tags": []
   },
   "outputs": [],
   "source": [
    "# Lines below will give you a hint or solution code\n",
    "#step_4.hint()\n",
    "#step_4.solution()"
   ]
  },
  {
   "cell_type": "markdown",
   "id": "choice-updating",
   "metadata": {
    "papermill": {
     "duration": 0.027352,
     "end_time": "2021-05-23T05:37:54.852886",
     "exception": false,
     "start_time": "2021-05-23T05:37:54.825534",
     "status": "completed"
    },
    "tags": []
   },
   "source": [
    "Run the next code cell to get the MAE for this approach."
   ]
  },
  {
   "cell_type": "code",
   "execution_count": 23,
   "id": "controlled-report",
   "metadata": {
    "execution": {
     "iopub.execute_input": "2021-05-23T05:37:54.915911Z",
     "iopub.status.busy": "2021-05-23T05:37:54.915190Z",
     "iopub.status.idle": "2021-05-23T05:37:56.618692Z",
     "shell.execute_reply": "2021-05-23T05:37:56.618017Z",
     "shell.execute_reply.started": "2021-05-22T06:02:12.242893Z"
    },
    "papermill": {
     "duration": 1.738135,
     "end_time": "2021-05-23T05:37:56.618872",
     "exception": false,
     "start_time": "2021-05-23T05:37:54.880737",
     "status": "completed"
    },
    "tags": []
   },
   "outputs": [
    {
     "name": "stdout",
     "output_type": "stream",
     "text": [
      "MAE from Approach 3 (One-Hot Encoding):\n",
      "17525.345719178084\n"
     ]
    }
   ],
   "source": [
    "print(\"MAE from Approach 3 (One-Hot Encoding):\") \n",
    "print(score_dataset(OH_X_train, OH_X_valid, y_train, y_valid))"
   ]
  },
  {
   "cell_type": "markdown",
   "id": "demanding-roberts",
   "metadata": {
    "papermill": {
     "duration": 0.028382,
     "end_time": "2021-05-23T05:37:56.675960",
     "exception": false,
     "start_time": "2021-05-23T05:37:56.647578",
     "status": "completed"
    },
    "tags": []
   },
   "source": [
    "# Generate test predictions and submit your results\n",
    "\n",
    "After you complete Step 4, if you'd like to use what you've learned to submit your results to the leaderboard, you'll need to preprocess the test data before generating predictions.\n",
    "\n",
    "**This step is completely optional, and you do not need to submit results to the leaderboard to successfully complete the exercise.**\n",
    "\n",
    "Check out the previous exercise if you need help with remembering how to [join the competition](https://www.kaggle.com/c/home-data-for-ml-course) or save your results to CSV.  Once you have generated a file with your results, follow the instructions below:\n",
    "1. Begin by clicking on the blue **Save Version** button in the top right corner of the window.  This will generate a pop-up window.  \n",
    "2. Ensure that the **Save and Run All** option is selected, and then click on the blue **Save** button.\n",
    "3. This generates a window in the bottom left corner of the notebook.  After it has finished running, click on the number to the right of the **Save Version** button.  This pulls up a list of versions on the right of the screen.  Click on the ellipsis **(...)** to the right of the most recent version, and select **Open in Viewer**.  This brings you into view mode of the same page. You will need to scroll down to get back to these instructions.\n",
    "4. Click on the **Output** tab on the right of the screen.  Then, click on the file you would like to submit, and click on the blue **Submit** button to submit your results to the leaderboard.\n",
    "\n",
    "You have now successfully submitted to the competition!\n",
    "\n",
    "If you want to keep working to improve your performance, select the blue **Edit** button in the top right of the screen. Then you can change your code and repeat the process. There's a lot of room to improve, and you will climb up the leaderboard as you work.\n"
   ]
  },
  {
   "cell_type": "code",
   "execution_count": 24,
   "id": "lonely-resource",
   "metadata": {
    "execution": {
     "iopub.execute_input": "2021-05-23T05:37:56.737865Z",
     "iopub.status.busy": "2021-05-23T05:37:56.736960Z",
     "iopub.status.idle": "2021-05-23T05:37:56.739185Z",
     "shell.execute_reply": "2021-05-23T05:37:56.739676Z"
    },
    "papermill": {
     "duration": 0.035324,
     "end_time": "2021-05-23T05:37:56.739832",
     "exception": false,
     "start_time": "2021-05-23T05:37:56.704508",
     "status": "completed"
    },
    "tags": []
   },
   "outputs": [],
   "source": [
    "# (Optional) Your code here"
   ]
  },
  {
   "cell_type": "markdown",
   "id": "dated-crystal",
   "metadata": {
    "papermill": {
     "duration": 0.028555,
     "end_time": "2021-05-23T05:37:56.796740",
     "exception": false,
     "start_time": "2021-05-23T05:37:56.768185",
     "status": "completed"
    },
    "tags": []
   },
   "source": [
    "# Keep going\n",
    "\n",
    "With missing value handling and categorical encoding, your modeling process is getting complex. This complexity gets worse when you want to save your model to use in the future. The key to managing this complexity is something called **pipelines**. \n",
    "\n",
    "**[Learn to use pipelines](https://www.kaggle.com/alexisbcook/pipelines)** to preprocess datasets with categorical variables, missing values and any other messiness your data throws at you."
   ]
  },
  {
   "cell_type": "markdown",
   "id": "right-guarantee",
   "metadata": {
    "papermill": {
     "duration": 0.028502,
     "end_time": "2021-05-23T05:37:56.854151",
     "exception": false,
     "start_time": "2021-05-23T05:37:56.825649",
     "status": "completed"
    },
    "tags": []
   },
   "source": [
    "---\n",
    "\n",
    "\n",
    "\n",
    "\n",
    "*Have questions or comments? Visit the [Learn Discussion forum](https://www.kaggle.com/learn-forum/161289) to chat with other Learners.*"
   ]
  }
 ],
 "metadata": {
  "kernelspec": {
   "display_name": "Python 3",
   "language": "python",
   "name": "python3"
  },
  "language_info": {
   "codemirror_mode": {
    "name": "ipython",
    "version": 3
   },
   "file_extension": ".py",
   "mimetype": "text/x-python",
   "name": "python",
   "nbconvert_exporter": "python",
   "pygments_lexer": "ipython3",
   "version": "3.7.9"
  },
  "papermill": {
   "default_parameters": {},
   "duration": 14.382762,
   "end_time": "2021-05-23T05:37:57.591734",
   "environment_variables": {},
   "exception": null,
   "input_path": "__notebook__.ipynb",
   "output_path": "__notebook__.ipynb",
   "parameters": {},
   "start_time": "2021-05-23T05:37:43.208972",
   "version": "2.3.2"
  }
 },
 "nbformat": 4,
 "nbformat_minor": 5
}
